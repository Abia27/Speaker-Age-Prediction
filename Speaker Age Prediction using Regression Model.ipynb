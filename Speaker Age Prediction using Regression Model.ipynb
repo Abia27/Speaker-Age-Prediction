{
 "cells": [
  {
   "cell_type": "code",
   "execution_count": 5,
   "id": "a07e91b6",
   "metadata": {},
   "outputs": [],
   "source": [
    "import os\n",
    "import librosa\n",
    "import numpy as np\n",
    "import pandas as pd\n",
    "import soundfile as sf\n",
    "import sounddevice as sd\n",
    "import matplotlib.pyplot as plt\n",
    "import parselmouth\n",
    "from scipy.signal import find_peaks\n",
    "from scipy.stats import mode\n",
    "from sklearn.preprocessing import StandardScaler, MinMaxScaler\n",
    "from sklearn.preprocessing import Normalizer\n",
    "from sklearn.preprocessing import StandardScaler\n",
    "from sklearn.neural_network import MLPRegressor\n",
    "from sklearn.model_selection import train_test_split\n",
    "from sklearn.metrics import mean_squared_error"
   ]
  },
  {
   "cell_type": "code",
   "execution_count": 2,
   "id": "66130e00",
   "metadata": {},
   "outputs": [],
   "source": [
    "path1=r\"C:\\Users\\Pak\\Downloads\\truncated-train-contents\"\n",
    "path2=r\"C:\\Users\\Pak\\Downloads\\cv-valid-test-contents\"\n"
   ]
  },
  {
   "cell_type": "code",
   "execution_count": 21,
   "id": "cb3a408e",
   "metadata": {},
   "outputs": [],
   "source": [
    "def access_folder_contents(folder_path):\n",
    "    files = []\n",
    "    for root, dirs, filenames in os.walk(folder_path):\n",
    "        for filename in filenames:\n",
    "            file_path = os.path.join(root, filename)\n",
    "            files.append(file_path)\n",
    "    return files\n",
    "files_in_path1 = access_folder_contents(path1)\n",
    "files_in_path2 = access_folder_contents(path2)\n",
    "\n",
    "#print(\"Files in path 1:\")\n",
    "#for file_path in files_in_path1:\n",
    "    #print(file_path)\n",
    "#print(\"\\nFiles in path 2:\")\n",
    "#for file_path in files_in_path2:\n",
    "    #print(file_path)"
   ]
  },
  {
   "cell_type": "code",
   "execution_count": 14,
   "id": "31dcfd6f",
   "metadata": {},
   "outputs": [
    {
     "data": {
      "text/plain": [
       "list"
      ]
     },
     "execution_count": 14,
     "metadata": {},
     "output_type": "execute_result"
    }
   ],
   "source": [
    "type(files_in_path2)"
   ]
  },
  {
   "cell_type": "code",
   "execution_count": 41,
   "id": "9626a171",
   "metadata": {},
   "outputs": [],
   "source": [
    "def split_list_into_parts(lst, n):\n",
    "    k, m = divmod(len(lst), n)\n",
    "    return [lst[i*k + min(i, m):(i+1)*k + min(i+1, m)] for i in range(n)]\n",
    "parts = split_list_into_parts(files_in_path1, 4)"
   ]
  },
  {
   "cell_type": "code",
   "execution_count": 44,
   "id": "9207e220",
   "metadata": {},
   "outputs": [],
   "source": [
    "def split_list_into_parts(lst, n):\n",
    "    k, m = divmod(len(lst), n)\n",
    "    return [lst[i*k + min(i, m):(i+1)*k + min(i+1, m)] for i in range(n)]\n",
    "parts2 = split_list_into_parts(files_in_path2, 5)"
   ]
  },
  {
   "cell_type": "code",
   "execution_count": 42,
   "id": "d79c072d",
   "metadata": {},
   "outputs": [
    {
     "name": "stdout",
     "output_type": "stream",
     "text": [
      "3751\n",
      "3751\n",
      "3751\n",
      "3751\n"
     ]
    }
   ],
   "source": [
    "print(len(parts[0]))\n",
    "print(len(parts[1]))\n",
    "print(len(parts[2]))\n",
    "print(len(parts[3]))"
   ]
  },
  {
   "cell_type": "code",
   "execution_count": 45,
   "id": "a63f0167",
   "metadata": {},
   "outputs": [
    {
     "name": "stdout",
     "output_type": "stream",
     "text": [
      "799\n",
      "799\n",
      "799\n",
      "799\n",
      "799\n"
     ]
    }
   ],
   "source": [
    "print(len(parts2[0]))\n",
    "print(len(parts2[1]))\n",
    "print(len(parts2[2]))\n",
    "print(len(parts2[3]))\n",
    "print(len(parts2[4]))"
   ]
  },
  {
   "cell_type": "code",
   "execution_count": 46,
   "id": "c2dad84f",
   "metadata": {},
   "outputs": [],
   "source": [
    "import librosa\n",
    "import numpy as np\n",
    "\n",
    "def extract_features(audio_path):\n",
    "    y, sr = librosa.load(audio_path, sr=None)  # Load audio at its native sampling rate\n",
    "    features = {}\n",
    "\n",
    "    # Pitch (fundamental frequency)\n",
    "    pitches, magnitudes = librosa.piptrack(y=y, sr=sr)\n",
    "    valid_pitches = pitches[magnitudes > np.median(magnitudes)]\n",
    "    if valid_pitches.size > 0:\n",
    "        pitch = valid_pitches.mean()\n",
    "    else:\n",
    "        pitch = 0  # Handle case with no valid pitches\n",
    "    features['pitch'] = pitch\n",
    "\n",
    "    # Formant frequencies using LPC\n",
    "    lpc_coeff = librosa.lpc(y, order=2)\n",
    "    features['lpc_coeff'] = lpc_coeff  # Storing LPC coefficients directly\n",
    "\n",
    "    # Intensity (energy)\n",
    "    intensity = librosa.feature.rms(y=y).mean()\n",
    "    features['intensity'] = intensity\n",
    "\n",
    "    # Duration\n",
    "    features['duration'] = librosa.get_duration(y=y, sr=sr)\n",
    "\n",
    "    # Spectral features\n",
    "    spectral_centroids = librosa.feature.spectral_centroid(y=y, sr=sr).mean()\n",
    "    features['spectral_centroid'] = spectral_centroids\n",
    "\n",
    "    spectral_rolloff = librosa.feature.spectral_rolloff(y=y, sr=sr).mean()\n",
    "    features['spectral_rolloff'] = spectral_rolloff\n",
    "\n",
    "    return features\n",
    "\n",
    "def process_audio_files(file_list):\n",
    "    return [extract_features(file) for file in file_list]\n",
    "\n",
    "# Assuming files_in_path1 is the cv-valid-test-contents 799 slicing\n",
    "features_from_path1 = process_audio_files(parts[0])"
   ]
  },
  {
   "cell_type": "code",
   "execution_count": 56,
   "id": "cb65d9d9",
   "metadata": {},
   "outputs": [],
   "source": [
    "features_from_path12 = process_audio_files(parts[1])"
   ]
  },
  {
   "cell_type": "code",
   "execution_count": 57,
   "id": "c19d24f2",
   "metadata": {},
   "outputs": [],
   "source": [
    "features_from_path13 = process_audio_files(parts[2])"
   ]
  },
  {
   "cell_type": "code",
   "execution_count": 58,
   "id": "56be36f1",
   "metadata": {},
   "outputs": [],
   "source": [
    "features_from_path14 = process_audio_files(parts[3])"
   ]
  },
  {
   "cell_type": "code",
   "execution_count": 51,
   "id": "8f974cc2",
   "metadata": {},
   "outputs": [],
   "source": [
    "features_from_path21 = process_audio_files(parts[0])"
   ]
  },
  {
   "cell_type": "code",
   "execution_count": 52,
   "id": "9d9b3f01",
   "metadata": {},
   "outputs": [],
   "source": [
    "features_from_path22 = process_audio_files(parts2[1])"
   ]
  },
  {
   "cell_type": "code",
   "execution_count": 53,
   "id": "cf6aa069",
   "metadata": {},
   "outputs": [],
   "source": [
    "features_from_path23 = process_audio_files(parts2[2])"
   ]
  },
  {
   "cell_type": "code",
   "execution_count": 54,
   "id": "ecef5215",
   "metadata": {},
   "outputs": [],
   "source": [
    "features_from_path24 = process_audio_files(parts2[3])"
   ]
  },
  {
   "cell_type": "code",
   "execution_count": 55,
   "id": "f4e9e918",
   "metadata": {},
   "outputs": [],
   "source": [
    "features_from_path25 = process_audio_files(parts2[4])"
   ]
  },
  {
   "cell_type": "code",
   "execution_count": 67,
   "id": "19f8c855",
   "metadata": {},
   "outputs": [],
   "source": [
    "df1=pd.DataFrame(features_from_path1)\n",
    "df2=pd.DataFrame(features_from_path12)\n",
    "df3=pd.DataFrame(features_from_path13)\n",
    "df4=pd.DataFrame(features_from_path14)"
   ]
  },
  {
   "cell_type": "code",
   "execution_count": 108,
   "id": "b4659684",
   "metadata": {},
   "outputs": [],
   "source": [
    "result_df = pd.concat([df1, df2, df3, df4], ignore_index=True)\n",
    "#print(result_df.head(5))\n",
    "#print(result_df.info)"
   ]
  },
  {
   "cell_type": "code",
   "execution_count": 94,
   "id": "d42809b9",
   "metadata": {},
   "outputs": [
    {
     "data": {
      "text/plain": [
       "3751"
      ]
     },
     "execution_count": 94,
     "metadata": {},
     "output_type": "execute_result"
    }
   ],
   "source": [
    "len(features_from_path21)"
   ]
  },
  {
   "cell_type": "code",
   "execution_count": 98,
   "id": "542c5cea",
   "metadata": {},
   "outputs": [],
   "source": [
    "df21=pd.DataFrame(features_from_path21)\n",
    "df25=pd.DataFrame(features_from_path25)"
   ]
  },
  {
   "cell_type": "code",
   "execution_count": 104,
   "id": "928318e2",
   "metadata": {},
   "outputs": [],
   "source": [
    "#df25.info"
   ]
  },
  {
   "cell_type": "code",
   "execution_count": 105,
   "id": "b7b8d0fc",
   "metadata": {},
   "outputs": [],
   "source": [
    "df25=df25[555:]"
   ]
  },
  {
   "cell_type": "code",
   "execution_count": 107,
   "id": "e6b1ac49",
   "metadata": {},
   "outputs": [],
   "source": [
    "result_df2 = pd.concat([df21,df25], ignore_index=True)\n",
    "#print(result_df2.head(5))\n",
    "#print(result_df2.info)"
   ]
  },
  {
   "cell_type": "code",
   "execution_count": 109,
   "id": "3394291a",
   "metadata": {},
   "outputs": [],
   "source": [
    "result_df.to_csv('features_cvtc.csv', index=False)\n",
    "result_df2.to_csv('features_ttc.csv', index=False)"
   ]
  },
  {
   "cell_type": "code",
   "execution_count": null,
   "id": "3551881e",
   "metadata": {},
   "outputs": [],
   "source": [
    "#\"C:\\Users\\Pak\\features_cvtc.csv\"\n",
    "#\"C:\\Users\\Pak\\features_ttc.csv\""
   ]
  },
  {
   "cell_type": "code",
   "execution_count": 71,
   "id": "f821ff20",
   "metadata": {},
   "outputs": [],
   "source": []
  },
  {
   "cell_type": "markdown",
   "id": "cdeaf2bc",
   "metadata": {},
   "source": [
    "# Step2"
   ]
  },
  {
   "cell_type": "code",
   "execution_count": 6,
   "id": "e17c39d2",
   "metadata": {},
   "outputs": [
    {
     "name": "stdout",
     "output_type": "stream",
     "text": [
      "pitch                0\n",
      "lpc_coeff            0\n",
      "intensity            0\n",
      "duration             0\n",
      "spectral_centroid    0\n",
      "spectral_rolloff     0\n",
      "dtype: int64\n",
      "pitch                0\n",
      "lpc_coeff            0\n",
      "intensity            0\n",
      "duration             0\n",
      "spectral_centroid    0\n",
      "spectral_rolloff     0\n",
      "dtype: int64\n"
     ]
    }
   ],
   "source": [
    "df1 = pd.read_csv(r\"C:\\Users\\Pak\\features_cvtc.csv\")\n",
    "df2 = pd.read_csv(r\"C:\\Users\\Pak\\features_ttc.csv\") \n",
    "missing_values_df1 = df1.isnull().sum()\n",
    "missing_values_df2 = df2.isnull().sum()\n",
    "print(missing_values_df1)\n",
    "print(missing_values_df2)"
   ]
  },
  {
   "cell_type": "code",
   "execution_count": 7,
   "id": "98bb8390",
   "metadata": {},
   "outputs": [],
   "source": [
    "# Mean Imputation\n",
    "#no missing values\n",
    "#df1.fillna(df1.mean(), inplace=True)\n",
    "#df2.fillna(df2.mean(), inplace=True)"
   ]
  },
  {
   "cell_type": "code",
   "execution_count": 8,
   "id": "8e009cc7",
   "metadata": {},
   "outputs": [
    {
     "data": {
      "text/plain": [
       "Index(['pitch', 'lpc_coeff', 'intensity', 'duration', 'spectral_centroid',\n",
       "       'spectral_rolloff'],\n",
       "      dtype='object')"
      ]
     },
     "execution_count": 8,
     "metadata": {},
     "output_type": "execute_result"
    }
   ],
   "source": [
    "df1.columns"
   ]
  },
  {
   "cell_type": "code",
   "execution_count": 9,
   "id": "dfdb9fbd",
   "metadata": {},
   "outputs": [],
   "source": [
    "#df1['lpc_coeff'] = df1['lpc_coeff'].apply(lambda x: ','.join(x.split()))\n",
    "#df1['lpc_coeff'] = df1['lpc_coeff'].apply(lambda x: ' '.join(x.lstrip(',').split()))\n",
    "#df2['lpc_coeff'] = df2['lpc_coeff'].apply(lambda x: ','.join(x.split()))"
   ]
  },
  {
   "cell_type": "code",
   "execution_count": 10,
   "id": "e2361c92",
   "metadata": {},
   "outputs": [],
   "source": [
    "df1['lpc_coeff'] = df1['lpc_coeff'].apply(lambda x: x.strip('[]').split())"
   ]
  },
  {
   "cell_type": "code",
   "execution_count": 11,
   "id": "f2a3b0be",
   "metadata": {},
   "outputs": [
    {
     "data": {
      "text/plain": [
       "0     [1., -1.9083494, 0.9153367]\n",
       "1     [1., -1.8787999, 0.8992487]\n",
       "2       [1., -1.9056594, 0.90771]\n",
       "3     [1., -1.9060233, 0.9219292]\n",
       "4    [1., -1.3687449, 0.41513205]\n",
       "Name: lpc_coeff, dtype: object"
      ]
     },
     "execution_count": 11,
     "metadata": {},
     "output_type": "execute_result"
    }
   ],
   "source": [
    "df1['lpc_coeff'].head(5)"
   ]
  },
  {
   "cell_type": "code",
   "execution_count": 12,
   "id": "c2bcff66",
   "metadata": {},
   "outputs": [],
   "source": [
    "expanded_df1 = pd.DataFrame(df1[\"lpc_coeff\"].tolist(), columns=[\"lpc_coeff1\",\"lpc_coeff2\",\"lpc_coeff3\"])"
   ]
  },
  {
   "cell_type": "code",
   "execution_count": 13,
   "id": "d61e4b3c",
   "metadata": {},
   "outputs": [
    {
     "data": {
      "text/html": [
       "<div>\n",
       "<style scoped>\n",
       "    .dataframe tbody tr th:only-of-type {\n",
       "        vertical-align: middle;\n",
       "    }\n",
       "\n",
       "    .dataframe tbody tr th {\n",
       "        vertical-align: top;\n",
       "    }\n",
       "\n",
       "    .dataframe thead th {\n",
       "        text-align: right;\n",
       "    }\n",
       "</style>\n",
       "<table border=\"1\" class=\"dataframe\">\n",
       "  <thead>\n",
       "    <tr style=\"text-align: right;\">\n",
       "      <th></th>\n",
       "      <th>lpc_coeff1</th>\n",
       "      <th>lpc_coeff2</th>\n",
       "      <th>lpc_coeff3</th>\n",
       "    </tr>\n",
       "  </thead>\n",
       "  <tbody>\n",
       "    <tr>\n",
       "      <th>0</th>\n",
       "      <td>1.</td>\n",
       "      <td>-1.9083494</td>\n",
       "      <td>0.9153367</td>\n",
       "    </tr>\n",
       "    <tr>\n",
       "      <th>1</th>\n",
       "      <td>1.</td>\n",
       "      <td>-1.8787999</td>\n",
       "      <td>0.8992487</td>\n",
       "    </tr>\n",
       "    <tr>\n",
       "      <th>2</th>\n",
       "      <td>1.</td>\n",
       "      <td>-1.9056594</td>\n",
       "      <td>0.90771</td>\n",
       "    </tr>\n",
       "  </tbody>\n",
       "</table>\n",
       "</div>"
      ],
      "text/plain": [
       "  lpc_coeff1  lpc_coeff2 lpc_coeff3\n",
       "0         1.  -1.9083494  0.9153367\n",
       "1         1.  -1.8787999  0.8992487\n",
       "2         1.  -1.9056594    0.90771"
      ]
     },
     "execution_count": 13,
     "metadata": {},
     "output_type": "execute_result"
    }
   ],
   "source": [
    "expanded_df1.head(3)"
   ]
  },
  {
   "cell_type": "code",
   "execution_count": 14,
   "id": "5f033b42",
   "metadata": {},
   "outputs": [],
   "source": [
    "df2['lpc_coeff'] = df2['lpc_coeff'].apply(lambda x: x.strip('[]').split())\n",
    "expanded_df2 = pd.DataFrame(df2[\"lpc_coeff\"].tolist(), columns=[\"lpc_coeff1\",\"lpc_coeff2\",\"lpc_coeff3\"])"
   ]
  },
  {
   "cell_type": "code",
   "execution_count": 15,
   "id": "e48bc723",
   "metadata": {},
   "outputs": [],
   "source": [
    "df1 = pd.concat([expanded_df1, df1], axis=1)\n",
    "df1= df1.drop('lpc_coeff', axis=1)"
   ]
  },
  {
   "cell_type": "code",
   "execution_count": 16,
   "id": "4836d24f",
   "metadata": {},
   "outputs": [],
   "source": [
    "df2 = pd.concat([expanded_df2, df2], axis=1)\n",
    "df2= df2.drop('lpc_coeff', axis=1)"
   ]
  },
  {
   "cell_type": "code",
   "execution_count": 17,
   "id": "b552490a",
   "metadata": {},
   "outputs": [
    {
     "data": {
      "text/html": [
       "<div>\n",
       "<style scoped>\n",
       "    .dataframe tbody tr th:only-of-type {\n",
       "        vertical-align: middle;\n",
       "    }\n",
       "\n",
       "    .dataframe tbody tr th {\n",
       "        vertical-align: top;\n",
       "    }\n",
       "\n",
       "    .dataframe thead th {\n",
       "        text-align: right;\n",
       "    }\n",
       "</style>\n",
       "<table border=\"1\" class=\"dataframe\">\n",
       "  <thead>\n",
       "    <tr style=\"text-align: right;\">\n",
       "      <th></th>\n",
       "      <th>lpc_coeff1</th>\n",
       "      <th>lpc_coeff2</th>\n",
       "      <th>lpc_coeff3</th>\n",
       "      <th>pitch</th>\n",
       "      <th>intensity</th>\n",
       "      <th>duration</th>\n",
       "      <th>spectral_centroid</th>\n",
       "      <th>spectral_rolloff</th>\n",
       "    </tr>\n",
       "  </thead>\n",
       "  <tbody>\n",
       "    <tr>\n",
       "      <th>0</th>\n",
       "      <td>1.</td>\n",
       "      <td>-1.9083494</td>\n",
       "      <td>0.9153367</td>\n",
       "      <td>1473.41360</td>\n",
       "      <td>0.010486</td>\n",
       "      <td>2.496</td>\n",
       "      <td>1560.430376</td>\n",
       "      <td>3142.121011</td>\n",
       "    </tr>\n",
       "    <tr>\n",
       "      <th>1</th>\n",
       "      <td>1.</td>\n",
       "      <td>-1.8787999</td>\n",
       "      <td>0.8992487</td>\n",
       "      <td>1551.78920</td>\n",
       "      <td>0.097466</td>\n",
       "      <td>7.056</td>\n",
       "      <td>1795.988452</td>\n",
       "      <td>3044.538331</td>\n",
       "    </tr>\n",
       "    <tr>\n",
       "      <th>2</th>\n",
       "      <td>1.</td>\n",
       "      <td>-1.9056594</td>\n",
       "      <td>0.90771</td>\n",
       "      <td>460.42413</td>\n",
       "      <td>0.009001</td>\n",
       "      <td>3.576</td>\n",
       "      <td>3248.940561</td>\n",
       "      <td>6612.792969</td>\n",
       "    </tr>\n",
       "    <tr>\n",
       "      <th>3</th>\n",
       "      <td>1.</td>\n",
       "      <td>-1.9060233</td>\n",
       "      <td>0.9219292</td>\n",
       "      <td>1814.97300</td>\n",
       "      <td>0.044882</td>\n",
       "      <td>5.904</td>\n",
       "      <td>1976.429247</td>\n",
       "      <td>3604.805957</td>\n",
       "    </tr>\n",
       "    <tr>\n",
       "      <th>4</th>\n",
       "      <td>1.</td>\n",
       "      <td>-1.3687449</td>\n",
       "      <td>0.41513205</td>\n",
       "      <td>1584.14840</td>\n",
       "      <td>0.070931</td>\n",
       "      <td>6.576</td>\n",
       "      <td>3890.960154</td>\n",
       "      <td>6748.252634</td>\n",
       "    </tr>\n",
       "  </tbody>\n",
       "</table>\n",
       "</div>"
      ],
      "text/plain": [
       "  lpc_coeff1  lpc_coeff2  lpc_coeff3       pitch  intensity  duration  \\\n",
       "0         1.  -1.9083494   0.9153367  1473.41360   0.010486     2.496   \n",
       "1         1.  -1.8787999   0.8992487  1551.78920   0.097466     7.056   \n",
       "2         1.  -1.9056594     0.90771   460.42413   0.009001     3.576   \n",
       "3         1.  -1.9060233   0.9219292  1814.97300   0.044882     5.904   \n",
       "4         1.  -1.3687449  0.41513205  1584.14840   0.070931     6.576   \n",
       "\n",
       "   spectral_centroid  spectral_rolloff  \n",
       "0        1560.430376       3142.121011  \n",
       "1        1795.988452       3044.538331  \n",
       "2        3248.940561       6612.792969  \n",
       "3        1976.429247       3604.805957  \n",
       "4        3890.960154       6748.252634  "
      ]
     },
     "execution_count": 17,
     "metadata": {},
     "output_type": "execute_result"
    }
   ],
   "source": [
    "df1.head(5)"
   ]
  },
  {
   "cell_type": "code",
   "execution_count": null,
   "id": "d342ee3c",
   "metadata": {},
   "outputs": [],
   "source": []
  },
  {
   "cell_type": "code",
   "execution_count": 18,
   "id": "636b8000",
   "metadata": {},
   "outputs": [],
   "source": [
    "scaler = StandardScaler()\n",
    "# Fit the scaler to the training data and transform it\n",
    "df1_scaled = pd.DataFrame(scaler.fit_transform(df1), columns=df1.columns)\n",
    "# Apply the same transformation to the testing data\n",
    "df2_scaled = pd.DataFrame(scaler.transform(df2), columns=df2.columns)\n"
   ]
  },
  {
   "cell_type": "code",
   "execution_count": 19,
   "id": "97747305",
   "metadata": {},
   "outputs": [
    {
     "data": {
      "text/html": [
       "<div>\n",
       "<style scoped>\n",
       "    .dataframe tbody tr th:only-of-type {\n",
       "        vertical-align: middle;\n",
       "    }\n",
       "\n",
       "    .dataframe tbody tr th {\n",
       "        vertical-align: top;\n",
       "    }\n",
       "\n",
       "    .dataframe thead th {\n",
       "        text-align: right;\n",
       "    }\n",
       "</style>\n",
       "<table border=\"1\" class=\"dataframe\">\n",
       "  <thead>\n",
       "    <tr style=\"text-align: right;\">\n",
       "      <th></th>\n",
       "      <th>lpc_coeff1</th>\n",
       "      <th>lpc_coeff2</th>\n",
       "      <th>lpc_coeff3</th>\n",
       "      <th>pitch</th>\n",
       "      <th>intensity</th>\n",
       "      <th>duration</th>\n",
       "      <th>spectral_centroid</th>\n",
       "      <th>spectral_rolloff</th>\n",
       "    </tr>\n",
       "  </thead>\n",
       "  <tbody>\n",
       "    <tr>\n",
       "      <th>0</th>\n",
       "      <td>0.0</td>\n",
       "      <td>-0.825418</td>\n",
       "      <td>0.779798</td>\n",
       "      <td>-0.198494</td>\n",
       "      <td>-0.913254</td>\n",
       "      <td>-0.939370</td>\n",
       "      <td>-1.359087</td>\n",
       "      <td>-1.179708</td>\n",
       "    </tr>\n",
       "    <tr>\n",
       "      <th>1</th>\n",
       "      <td>0.0</td>\n",
       "      <td>-0.671592</td>\n",
       "      <td>0.681942</td>\n",
       "      <td>0.077886</td>\n",
       "      <td>1.576797</td>\n",
       "      <td>1.291604</td>\n",
       "      <td>-1.066266</td>\n",
       "      <td>-1.241865</td>\n",
       "    </tr>\n",
       "    <tr>\n",
       "      <th>2</th>\n",
       "      <td>0.0</td>\n",
       "      <td>-0.811415</td>\n",
       "      <td>0.733408</td>\n",
       "      <td>-3.770642</td>\n",
       "      <td>-0.955793</td>\n",
       "      <td>-0.410981</td>\n",
       "      <td>0.739896</td>\n",
       "      <td>1.030998</td>\n",
       "    </tr>\n",
       "  </tbody>\n",
       "</table>\n",
       "</div>"
      ],
      "text/plain": [
       "   lpc_coeff1  lpc_coeff2  lpc_coeff3     pitch  intensity  duration  \\\n",
       "0         0.0   -0.825418    0.779798 -0.198494  -0.913254 -0.939370   \n",
       "1         0.0   -0.671592    0.681942  0.077886   1.576797  1.291604   \n",
       "2         0.0   -0.811415    0.733408 -3.770642  -0.955793 -0.410981   \n",
       "\n",
       "   spectral_centroid  spectral_rolloff  \n",
       "0          -1.359087         -1.179708  \n",
       "1          -1.066266         -1.241865  \n",
       "2           0.739896          1.030998  "
      ]
     },
     "execution_count": 19,
     "metadata": {},
     "output_type": "execute_result"
    }
   ],
   "source": [
    "df1_scaled.head(3)"
   ]
  },
  {
   "cell_type": "code",
   "execution_count": 20,
   "id": "f283f11a",
   "metadata": {},
   "outputs": [
    {
     "data": {
      "text/plain": [
       "Index(['lpc_coeff1', 'lpc_coeff2', 'lpc_coeff3', 'pitch', 'intensity',\n",
       "       'duration', 'spectral_centroid', 'spectral_rolloff'],\n",
       "      dtype='object')"
      ]
     },
     "execution_count": 20,
     "metadata": {},
     "output_type": "execute_result"
    }
   ],
   "source": [
    "df1.columns"
   ]
  },
  {
   "cell_type": "code",
   "execution_count": 21,
   "id": "48e375cc",
   "metadata": {},
   "outputs": [],
   "source": [
    "age_df1 = pd.read_excel(r\"C:\\Users\\Pak\\Downloads\\truncated_train.xlsx\")\n",
    "age_df2 = pd.read_excel(r\"C:\\Users\\Pak\\Downloads\\cv-valid-test.xlsx\")"
   ]
  },
  {
   "cell_type": "code",
   "execution_count": 22,
   "id": "bb489221",
   "metadata": {},
   "outputs": [],
   "source": [
    "age_mapping = {\n",
    "    \"teens\": 10,\n",
    "    \"twenties\": 20,\n",
    "    \"thirties\": 30,\n",
    "    \"forties\": 40,\n",
    "    \"fifties\": 50,\n",
    "    \"sixties\": 60,\n",
    "    \"seventies\":70,\n",
    "    \"eighties\": 80,\n",
    "    \"nineties\": 90,\n",
    "    \n",
    "    # Add more mappings as needed\n",
    "}\n",
    "\n",
    "# Apply the mapping to the 'age' column\n",
    "age_df1['age'] = age_df1['age'].map(age_mapping)\n",
    "age_df2['age'] = age_df2['age'].map(age_mapping)"
   ]
  },
  {
   "cell_type": "code",
   "execution_count": 23,
   "id": "480d44cf",
   "metadata": {},
   "outputs": [
    {
     "data": {
      "text/html": [
       "<div>\n",
       "<style scoped>\n",
       "    .dataframe tbody tr th:only-of-type {\n",
       "        vertical-align: middle;\n",
       "    }\n",
       "\n",
       "    .dataframe tbody tr th {\n",
       "        vertical-align: top;\n",
       "    }\n",
       "\n",
       "    .dataframe thead th {\n",
       "        text-align: right;\n",
       "    }\n",
       "</style>\n",
       "<table border=\"1\" class=\"dataframe\">\n",
       "  <thead>\n",
       "    <tr style=\"text-align: right;\">\n",
       "      <th></th>\n",
       "      <th>filename</th>\n",
       "      <th>text</th>\n",
       "      <th>up_votes</th>\n",
       "      <th>down_votes</th>\n",
       "      <th>age</th>\n",
       "      <th>gender</th>\n",
       "      <th>accent</th>\n",
       "      <th>duration</th>\n",
       "    </tr>\n",
       "  </thead>\n",
       "  <tbody>\n",
       "    <tr>\n",
       "      <th>0</th>\n",
       "      <td>cv-valid-train/sample-000000.mp3</td>\n",
       "      <td>learn to recognize omens and follow them the o...</td>\n",
       "      <td>1</td>\n",
       "      <td>0</td>\n",
       "      <td>NaN</td>\n",
       "      <td>NaN</td>\n",
       "      <td>NaN</td>\n",
       "      <td>NaN</td>\n",
       "    </tr>\n",
       "    <tr>\n",
       "      <th>1</th>\n",
       "      <td>cv-valid-train/sample-000001.mp3</td>\n",
       "      <td>everything in the universe evolved he said</td>\n",
       "      <td>1</td>\n",
       "      <td>0</td>\n",
       "      <td>NaN</td>\n",
       "      <td>NaN</td>\n",
       "      <td>NaN</td>\n",
       "      <td>NaN</td>\n",
       "    </tr>\n",
       "    <tr>\n",
       "      <th>2</th>\n",
       "      <td>cv-valid-train/sample-000002.mp3</td>\n",
       "      <td>you came so that you could learn about your dr...</td>\n",
       "      <td>1</td>\n",
       "      <td>0</td>\n",
       "      <td>NaN</td>\n",
       "      <td>NaN</td>\n",
       "      <td>NaN</td>\n",
       "      <td>NaN</td>\n",
       "    </tr>\n",
       "    <tr>\n",
       "      <th>3</th>\n",
       "      <td>cv-valid-train/sample-000003.mp3</td>\n",
       "      <td>so now i fear nothing because it was those ome...</td>\n",
       "      <td>1</td>\n",
       "      <td>0</td>\n",
       "      <td>NaN</td>\n",
       "      <td>NaN</td>\n",
       "      <td>NaN</td>\n",
       "      <td>NaN</td>\n",
       "    </tr>\n",
       "    <tr>\n",
       "      <th>4</th>\n",
       "      <td>cv-valid-train/sample-000004.mp3</td>\n",
       "      <td>if you start your emails with greetings let me...</td>\n",
       "      <td>3</td>\n",
       "      <td>2</td>\n",
       "      <td>NaN</td>\n",
       "      <td>NaN</td>\n",
       "      <td>NaN</td>\n",
       "      <td>NaN</td>\n",
       "    </tr>\n",
       "    <tr>\n",
       "      <th>5</th>\n",
       "      <td>cv-valid-train/sample-000005.mp3</td>\n",
       "      <td>a shepherd may like to travel but he should ne...</td>\n",
       "      <td>1</td>\n",
       "      <td>0</td>\n",
       "      <td>20.0</td>\n",
       "      <td>female</td>\n",
       "      <td>us</td>\n",
       "      <td>NaN</td>\n",
       "    </tr>\n",
       "    <tr>\n",
       "      <th>6</th>\n",
       "      <td>cv-valid-train/sample-000006.mp3</td>\n",
       "      <td>night fell and an assortment of fighting men a...</td>\n",
       "      <td>3</td>\n",
       "      <td>0</td>\n",
       "      <td>NaN</td>\n",
       "      <td>NaN</td>\n",
       "      <td>NaN</td>\n",
       "      <td>NaN</td>\n",
       "    </tr>\n",
       "    <tr>\n",
       "      <th>7</th>\n",
       "      <td>cv-valid-train/sample-000007.mp3</td>\n",
       "      <td>i heard a faint movement under my feet</td>\n",
       "      <td>2</td>\n",
       "      <td>1</td>\n",
       "      <td>NaN</td>\n",
       "      <td>NaN</td>\n",
       "      <td>NaN</td>\n",
       "      <td>NaN</td>\n",
       "    </tr>\n",
       "    <tr>\n",
       "      <th>8</th>\n",
       "      <td>cv-valid-train/sample-000008.mp3</td>\n",
       "      <td>put jackie right on the staff</td>\n",
       "      <td>3</td>\n",
       "      <td>0</td>\n",
       "      <td>70.0</td>\n",
       "      <td>male</td>\n",
       "      <td>us</td>\n",
       "      <td>NaN</td>\n",
       "    </tr>\n",
       "    <tr>\n",
       "      <th>9</th>\n",
       "      <td>cv-valid-train/sample-000009.mp3</td>\n",
       "      <td>when he speaks in our language i can interpret...</td>\n",
       "      <td>1</td>\n",
       "      <td>0</td>\n",
       "      <td>NaN</td>\n",
       "      <td>NaN</td>\n",
       "      <td>NaN</td>\n",
       "      <td>NaN</td>\n",
       "    </tr>\n",
       "  </tbody>\n",
       "</table>\n",
       "</div>"
      ],
      "text/plain": [
       "                           filename  \\\n",
       "0  cv-valid-train/sample-000000.mp3   \n",
       "1  cv-valid-train/sample-000001.mp3   \n",
       "2  cv-valid-train/sample-000002.mp3   \n",
       "3  cv-valid-train/sample-000003.mp3   \n",
       "4  cv-valid-train/sample-000004.mp3   \n",
       "5  cv-valid-train/sample-000005.mp3   \n",
       "6  cv-valid-train/sample-000006.mp3   \n",
       "7  cv-valid-train/sample-000007.mp3   \n",
       "8  cv-valid-train/sample-000008.mp3   \n",
       "9  cv-valid-train/sample-000009.mp3   \n",
       "\n",
       "                                                text  up_votes  down_votes  \\\n",
       "0  learn to recognize omens and follow them the o...         1           0   \n",
       "1         everything in the universe evolved he said         1           0   \n",
       "2  you came so that you could learn about your dr...         1           0   \n",
       "3  so now i fear nothing because it was those ome...         1           0   \n",
       "4  if you start your emails with greetings let me...         3           2   \n",
       "5  a shepherd may like to travel but he should ne...         1           0   \n",
       "6  night fell and an assortment of fighting men a...         3           0   \n",
       "7             i heard a faint movement under my feet         2           1   \n",
       "8                      put jackie right on the staff         3           0   \n",
       "9  when he speaks in our language i can interpret...         1           0   \n",
       "\n",
       "    age  gender accent  duration  \n",
       "0   NaN     NaN    NaN       NaN  \n",
       "1   NaN     NaN    NaN       NaN  \n",
       "2   NaN     NaN    NaN       NaN  \n",
       "3   NaN     NaN    NaN       NaN  \n",
       "4   NaN     NaN    NaN       NaN  \n",
       "5  20.0  female     us       NaN  \n",
       "6   NaN     NaN    NaN       NaN  \n",
       "7   NaN     NaN    NaN       NaN  \n",
       "8  70.0    male     us       NaN  \n",
       "9   NaN     NaN    NaN       NaN  "
      ]
     },
     "execution_count": 23,
     "metadata": {},
     "output_type": "execute_result"
    }
   ],
   "source": [
    "age_df1.head(10)"
   ]
  },
  {
   "cell_type": "code",
   "execution_count": 24,
   "id": "5efc04d3",
   "metadata": {},
   "outputs": [
    {
     "name": "stdout",
     "output_type": "stream",
     "text": [
      "Number of rows in dataframe1: 15001\n",
      "Number of rows in dataframe2: 3995\n"
     ]
    }
   ],
   "source": [
    "print(\"Number of rows in dataframe1:\", len(age_df1))\n",
    "print(\"Number of rows in dataframe2:\", len(age_df2))"
   ]
  },
  {
   "cell_type": "code",
   "execution_count": 25,
   "id": "f994af02",
   "metadata": {},
   "outputs": [
    {
     "name": "stdout",
     "output_type": "stream",
     "text": [
      "Number of rows in dataframe1: 15004\n",
      "Number of rows in dataframe2: 3995\n"
     ]
    }
   ],
   "source": [
    "print(\"Number of rows in dataframe1:\", len(df1_scaled))\n",
    "print(\"Number of rows in dataframe2:\", len(df2_scaled))"
   ]
  },
  {
   "cell_type": "code",
   "execution_count": 26,
   "id": "583e0955",
   "metadata": {},
   "outputs": [
    {
     "name": "stdout",
     "output_type": "stream",
     "text": [
      "Missing values in dataframe1: lpc_coeff1           0\n",
      "lpc_coeff2           0\n",
      "lpc_coeff3           0\n",
      "pitch                0\n",
      "intensity            0\n",
      "duration             0\n",
      "spectral_centroid    0\n",
      "spectral_rolloff     0\n",
      "dtype: int64\n",
      "Missing values in dataframe2: lpc_coeff1           0\n",
      "lpc_coeff2           0\n",
      "lpc_coeff3           0\n",
      "pitch                0\n",
      "intensity            0\n",
      "duration             0\n",
      "spectral_centroid    0\n",
      "spectral_rolloff     0\n",
      "dtype: int64\n"
     ]
    }
   ],
   "source": [
    "print(\"Missing values in dataframe1:\", df1_scaled.isnull().sum())\n",
    "print(\"Missing values in dataframe2:\", df2_scaled.isnull().sum())"
   ]
  },
  {
   "cell_type": "code",
   "execution_count": 27,
   "id": "3e49e97b",
   "metadata": {},
   "outputs": [],
   "source": [
    "#age_df1= age_df1.isnull().sum()\n",
    "#age_df2= age_df2.isnull().sum()"
   ]
  },
  {
   "cell_type": "code",
   "execution_count": 28,
   "id": "1a1dc649",
   "metadata": {},
   "outputs": [
    {
     "name": "stdout",
     "output_type": "stream",
     "text": [
      "<class 'pandas.core.frame.DataFrame'>\n",
      "                           filename  \\\n",
      "0  cv-valid-train/sample-000000.mp3   \n",
      "1  cv-valid-train/sample-000001.mp3   \n",
      "2  cv-valid-train/sample-000002.mp3   \n",
      "3  cv-valid-train/sample-000003.mp3   \n",
      "4  cv-valid-train/sample-000004.mp3   \n",
      "\n",
      "                                                text  up_votes  down_votes  \\\n",
      "0  learn to recognize omens and follow them the o...         1           0   \n",
      "1         everything in the universe evolved he said         1           0   \n",
      "2  you came so that you could learn about your dr...         1           0   \n",
      "3  so now i fear nothing because it was those ome...         1           0   \n",
      "4  if you start your emails with greetings let me...         3           2   \n",
      "\n",
      "   age gender accent  duration  \n",
      "0  NaN    NaN    NaN       NaN  \n",
      "1  NaN    NaN    NaN       NaN  \n",
      "2  NaN    NaN    NaN       NaN  \n",
      "3  NaN    NaN    NaN       NaN  \n",
      "4  NaN    NaN    NaN       NaN  \n"
     ]
    }
   ],
   "source": [
    "print(type(age_df1))\n",
    "print(age_df1.head())"
   ]
  },
  {
   "cell_type": "code",
   "execution_count": 29,
   "id": "cc575f6c",
   "metadata": {},
   "outputs": [
    {
     "name": "stdout",
     "output_type": "stream",
     "text": [
      "Shape of df1_scaled: (15004, 8)\n",
      "Shape of age_df1: (15001, 8)\n",
      "Shape of df1_scaled: (3995, 8)\n",
      "Shape of age_df1: (3995, 8)\n"
     ]
    }
   ],
   "source": [
    "print(\"Shape of df1_scaled:\", df1_scaled.shape)\n",
    "print(\"Shape of age_df1:\", age_df1.shape)\n",
    "print(\"Shape of df1_scaled:\", df2_scaled.shape)\n",
    "print(\"Shape of age_df1:\", age_df2.shape)"
   ]
  },
  {
   "cell_type": "code",
   "execution_count": 30,
   "id": "b8d77953",
   "metadata": {},
   "outputs": [],
   "source": [
    "df1_scaled.reset_index(drop=True, inplace=True)\n",
    "age_df1.reset_index(drop=True, inplace=True)\n",
    "df2_scaled.reset_index(drop=True, inplace=True)\n",
    "age_df2.reset_index(drop=True, inplace=True)"
   ]
  },
  {
   "cell_type": "code",
   "execution_count": 31,
   "id": "08220435",
   "metadata": {},
   "outputs": [],
   "source": [
    "# Remove rows from 'df1_scaled' to align with 'age_df1'\n",
    "df1_scaled = df1_scaled.iloc[:15001]"
   ]
  },
  {
   "cell_type": "code",
   "execution_count": 32,
   "id": "e6b22b8a",
   "metadata": {},
   "outputs": [],
   "source": [
    "# Example of imputing missing values (mean imputation)\n",
    "from sklearn.impute import SimpleImputer\n",
    "imputer = SimpleImputer(strategy='mean')\n",
    "df1_scaled_imputed = imputer.fit_transform(df1_scaled)"
   ]
  },
  {
   "cell_type": "code",
   "execution_count": 33,
   "id": "b9a83b9c",
   "metadata": {},
   "outputs": [],
   "source": [
    "# Example of imputing missing values (mean imputation)\n",
    "from sklearn.impute import SimpleImputer\n",
    "imputer2 = SimpleImputer(strategy='mean')\n",
    "df2_scaled_imputed = imputer2.fit_transform(df2_scaled)"
   ]
  },
  {
   "cell_type": "code",
   "execution_count": 34,
   "id": "810eded5",
   "metadata": {},
   "outputs": [
    {
     "name": "stdout",
     "output_type": "stream",
     "text": [
      "Number of NaN values in df1_scaled_imputed: 0\n"
     ]
    }
   ],
   "source": [
    "# Check for NaN values in 'df1_scaled_imputed'\n",
    "nan_indices = np.isnan(df1_scaled_imputed)\n",
    "nan_count = np.sum(nan_indices)\n",
    "\n",
    "print(\"Number of NaN values in df1_scaled_imputed:\", nan_count)"
   ]
  },
  {
   "cell_type": "code",
   "execution_count": 35,
   "id": "498d7150",
   "metadata": {},
   "outputs": [
    {
     "name": "stdout",
     "output_type": "stream",
     "text": [
      "Number of NaN values in df1_scaled_imputed: 0\n"
     ]
    }
   ],
   "source": [
    "# Check for NaN values in 'df1_scaled_imputed'\n",
    "nan_indices2 = np.isnan(df2_scaled_imputed)\n",
    "nan_count2 = np.sum(nan_indices2)\n",
    "\n",
    "print(\"Number of NaN values in df1_scaled_imputed:\", nan_count2)"
   ]
  },
  {
   "cell_type": "code",
   "execution_count": 36,
   "id": "fae84305",
   "metadata": {},
   "outputs": [
    {
     "name": "stdout",
     "output_type": "stream",
     "text": [
      "filename          0\n",
      "text              0\n",
      "up_votes          0\n",
      "down_votes        0\n",
      "age           10276\n",
      "gender         9375\n",
      "accent        10068\n",
      "duration      15001\n",
      "dtype: int64\n"
     ]
    }
   ],
   "source": [
    "print(age_df1.isna().sum())"
   ]
  },
  {
   "cell_type": "code",
   "execution_count": 37,
   "id": "33eafabd",
   "metadata": {},
   "outputs": [
    {
     "name": "stdout",
     "output_type": "stream",
     "text": [
      "filename         0\n",
      "text             0\n",
      "up_votes         0\n",
      "down_votes       0\n",
      "age           2689\n",
      "gender        2454\n",
      "accent        2657\n",
      "duration      3995\n",
      "dtype: int64\n"
     ]
    }
   ],
   "source": [
    "print(age_df2.isna().sum())"
   ]
  },
  {
   "cell_type": "code",
   "execution_count": 38,
   "id": "2c77b0da",
   "metadata": {},
   "outputs": [],
   "source": [
    "from sklearn.impute import SimpleImputer\n",
    "\n",
    "imputer = SimpleImputer(strategy='median')  # or 'mean'\n",
    "age_df1['age'] = imputer.fit_transform(age_df1[['age']])"
   ]
  },
  {
   "cell_type": "code",
   "execution_count": 39,
   "id": "e5d7379c",
   "metadata": {},
   "outputs": [],
   "source": [
    "from sklearn.impute import SimpleImputer\n",
    "\n",
    "imputer2 = SimpleImputer(strategy='median')  # or 'mean'\n",
    "age_df2['age'] = imputer2.fit_transform(age_df2[['age']])"
   ]
  },
  {
   "cell_type": "code",
   "execution_count": 40,
   "id": "c619aa2c",
   "metadata": {},
   "outputs": [
    {
     "name": "stdout",
     "output_type": "stream",
     "text": [
      "Mean Squared Error: 81.72815965189447\n"
     ]
    }
   ],
   "source": [
    "X_train, X_test, y_train, y_test = train_test_split(df1_scaled_imputed,  age_df1['age'], test_size=0.2, random_state=42)\n",
    "#X_train, X_test, y_train, y_test = train_test_split(df1_scaled, age_df1['age'], test_size=0.2, random_state=42)\n",
    "# Create a Neural Network Regression model\n",
    "model = MLPRegressor(hidden_layer_sizes=(100, 50), activation='relu', solver='adam', max_iter=500, random_state=42)\n",
    "# Train the model using the training data\n",
    "model.fit(X_train, y_train)\n",
    "# Make predictions on the testing data\n",
    "predictions = model.predict(X_test)\n",
    "# Calculate Mean Squared Error (MSE) as a metric\n",
    "mse = mean_squared_error(y_test, predictions)\n",
    "print(\"Mean Squared Error:\", mse)"
   ]
  },
  {
   "cell_type": "code",
   "execution_count": 41,
   "id": "dbaa3624",
   "metadata": {},
   "outputs": [
    {
     "name": "stdout",
     "output_type": "stream",
     "text": [
      "Mean Squared Error: 71.61273236686799\n"
     ]
    }
   ],
   "source": [
    "X_train, X_test, y_train, y_test = train_test_split(df2_scaled_imputed, age_df2['age'], test_size=0.2, random_state=42)\n",
    "# Create a Neural Network Regression model\n",
    "model = MLPRegressor(hidden_layer_sizes=(100, 50), activation='relu', solver='adam', max_iter=500, random_state=42)\n",
    "# Train the model using the training data\n",
    "model.fit(X_train, y_train)\n",
    "# Make predictions on the testing data\n",
    "predictions = model.predict(X_test)\n",
    "# Calculate Mean Squared Error (MSE) as a metric\n",
    "mse = mean_squared_error(y_test, predictions)\n",
    "print(\"Mean Squared Error:\", mse)\n"
   ]
  },
  {
   "cell_type": "code",
   "execution_count": 42,
   "id": "c6e4bc24",
   "metadata": {},
   "outputs": [
    {
     "name": "stdout",
     "output_type": "stream",
     "text": [
      "Mean Squared Error (MSE): 71.61273236686799\n",
      "Mean Absolute Error (MAE): 4.307784508940849\n",
      "R-squared (R^2) coefficient of determination: -0.012774195426350499\n",
      "MSE for age group 0: 418.8371892040679\n",
      "MSE for age group 1: 103.47249960198103\n",
      "MSE for age group 2: 2.092889149331233\n",
      "MSE for age group 4: 382.0823313330328\n",
      "MSE for age group 5: 873.0011273812752\n",
      "MSE for age group 6: 1528.727992744877\n",
      "MSE for age group 7: 2556.2507497666384\n"
     ]
    }
   ],
   "source": [
    "from sklearn.metrics import mean_squared_error, mean_absolute_error, r2_score\n",
    "\n",
    "# Evaluate model on the testing set\n",
    "predictions = model.predict(X_test)\n",
    "mse = mean_squared_error(y_test, predictions)\n",
    "mae = mean_absolute_error(y_test, predictions)\n",
    "r2 = r2_score(y_test, predictions)\n",
    "\n",
    "print(\"Mean Squared Error (MSE):\", mse)\n",
    "print(\"Mean Absolute Error (MAE):\", mae)\n",
    "print(\"R-squared (R^2) coefficient of determination:\", r2)\n",
    "\n",
    "# Assess model performance across different age groups (for example, bins of age ranges)\n",
    "# Define your age groups and corresponding bins based on your data\n",
    "bins = [0,10, 20, 30, 40, 50, 60, 70, 80, 90, 100]\n",
    "age_groups = pd.cut(y_test, bins=bins, labels=False)\n",
    "\n",
    "# Calculate MSE for each age group\n",
    "mse_by_age_group = {}\n",
    "for group in np.unique(age_groups):\n",
    "    indices = np.where(age_groups == group)[0]\n",
    "    group_predictions = predictions[indices]\n",
    "    group_actuals = y_test.iloc[indices]\n",
    "    mse_by_age_group[group] = mean_squared_error(group_actuals, group_predictions)\n",
    "\n",
    "# Print MSE for each age group\n",
    "for group, mse in mse_by_age_group.items():\n",
    "    print(f\"MSE for age group {group}: {mse}\")\n"
   ]
  },
  {
   "cell_type": "code",
   "execution_count": 43,
   "id": "dacb73b3",
   "metadata": {},
   "outputs": [
    {
     "data": {
      "image/png": "[encoded data removed]",
      "text/plain": [
       "<Figure size 1000x600 with 1 Axes>"
      ]
     },
     "metadata": {},
     "output_type": "display_data"
    }
   ],
   "source": [
    "import matplotlib.pyplot as plt\n",
    "\n",
    "# Define the MSE values and corresponding age groups\n",
    "mse_values = [164.87093474575016, 2.092889149331233, 0, 382.0823313330328, 873.0011273812752, 1528.727992744877, 2556.2507497666384]\n",
    "age_groups = ['Missing', 'Teens', 'Twenties', 'Thirties', 'Fourties', 'Fifties', 'Sixties']  # Age group labels (replace with actual labels if available)\n",
    "\n",
    "# Plot MSE for each age group\n",
    "plt.figure(figsize=(10, 6))\n",
    "plt.bar(age_groups, mse_values, color='skyblue')\n",
    "plt.title('Mean Squared Error (MSE) Across Age Groups')\n",
    "plt.xlabel('Age Group')\n",
    "plt.ylabel('MSE')\n",
    "plt.xticks(rotation=45)  # Rotate x-axis labels for better readability\n",
    "plt.tight_layout()\n",
    "plt.show()\n"
   ]
  },
  {
   "cell_type": "code",
   "execution_count": null,
   "id": "38b09f98",
   "metadata": {},
   "outputs": [],
   "source": []
  }
 ],
 "metadata": {
  "kernelspec": {
   "display_name": "Python 3 (ipykernel)",
   "language": "python",
   "name": "python3"
  },
  "language_info": {
   "codemirror_mode": {
    "name": "ipython",
    "version": 3
   },
   "file_extension": ".py",
   "mimetype": "text/x-python",
   "name": "python",
   "nbconvert_exporter": "python",
   "pygments_lexer": "ipython3",
   "version": "3.11.4"
  }
 },
 "nbformat": 4,
 "nbformat_minor": 5
}
